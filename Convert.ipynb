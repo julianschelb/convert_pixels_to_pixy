{
 "cells": [
  {
   "cell_type": "markdown",
   "metadata": {},
   "source": [
    "# Convert Pixels to Pixy"
   ]
  },
  {
   "cell_type": "code",
   "execution_count": 1,
   "metadata": {},
   "outputs": [],
   "source": [
    "import json"
   ]
  },
  {
   "cell_type": "markdown",
   "metadata": {},
   "source": [
    "**Load Pixels data:**"
   ]
  },
  {
   "cell_type": "code",
   "execution_count": 2,
   "metadata": {},
   "outputs": [
    {
     "name": "stdout",
     "output_type": "stream",
     "text": [
      "{'mood': 3, 'date': '2024-09-15', 'emotions': []}\n"
     ]
    }
   ],
   "source": [
    "# Path to your JSON file\n",
    "file_path = 'data/pixels.json'\n",
    "\n",
    "# Load the JSON data\n",
    "with open(file_path, 'r', encoding='utf-8') as file:\n",
    "    pixels_data = json.load(file)\n",
    "    \n",
    "# Print the data\n",
    "print(pixels_data[0])"
   ]
  },
  {
   "cell_type": "markdown",
   "metadata": {},
   "source": [
    "**Load Template for Pixy Data**"
   ]
  },
  {
   "cell_type": "code",
   "execution_count": 3,
   "metadata": {},
   "outputs": [
    {
     "name": "stdout",
     "output_type": "stream",
     "text": [
      "Version: 1.81.1\n",
      "{'id': 'f57dcb0c-4da2-489f-91f2-912f183c22e8', 'date': '2020-09-15', 'dateTime': '2020-09-15T20:47:30.185920Z', 'rating': 'good', 'message': '', 'emotions': [], 'tags': [], 'sleep': {'quality': None}, 'createdAt': '2024-11-17T20:47:30.185931Z'}\n",
      "Settings: {'passcodeEnabled': None, 'passcode': None, 'scaleType': 'ColorBrew-RdYlGn', 'reminderEnabled': False, 'reminderTime': '18:00', 'analyticsEnabled': True, 'actionsDone': [{'title': 'onboarding', 'date': '2024-11-16T09:57:21.943Z'}], 'steps': ['rating', 'tags', 'emotions', 'message', 'feedback']}\n"
     ]
    }
   ],
   "source": [
    "import json\n",
    "\n",
    "# Path to your JSON file\n",
    "file_path = 'data/pixy.json'\n",
    "\n",
    "# Load the JSON data\n",
    "with open(file_path, 'r', encoding='utf-8') as file:\n",
    "    pixy_template = json.load(file)\n",
    "\n",
    "# Access specific parts of the data\n",
    "version = pixy_template.get('version')\n",
    "items = pixy_template.get('items', [])\n",
    "tags = pixy_template.get('tags', [])\n",
    "settings = pixy_template.get('settings', {})\n",
    "\n",
    "# Example: Print the version and iterate over the items\n",
    "print(f\"Version: {version}\")\n",
    "\n",
    "# Print first item\n",
    "print(items[0])\n",
    "\n",
    "# Example: Print settings\n",
    "print(f\"Settings: {settings}\")"
   ]
  },
  {
   "cell_type": "markdown",
   "metadata": {},
   "source": [
    "**Convert:**"
   ]
  },
  {
   "cell_type": "code",
   "execution_count": 4,
   "metadata": {},
   "outputs": [],
   "source": [
    "# Mapping mood to rating\n",
    "mood_to_rating = {\n",
    "    5: \"extremely_good\",\n",
    "    4: \"good\",\n",
    "    3: \"neutral\",\n",
    "    2: \"bad\",\n",
    "    1: \"extremely_bad\"\n",
    "}"
   ]
  },
  {
   "cell_type": "code",
   "execution_count": 5,
   "metadata": {},
   "outputs": [],
   "source": [
    "import uuid\n",
    "import datetime"
   ]
  },
  {
   "cell_type": "code",
   "execution_count": 6,
   "metadata": {},
   "outputs": [],
   "source": [
    "# Transform the data\n",
    "transformed_data = {\n",
    "    \"items\": []\n",
    "}\n",
    "\n",
    "# Iterate over the pixels data entries\n",
    "for entry in pixels_data:\n",
    "    \n",
    "    # Transform each entry\n",
    "    transformed_entry = {\n",
    "        \"id\": str(uuid.uuid4()),\n",
    "        \"date\": entry[\"date\"],\n",
    "        \"dateTime\": f\"{entry['date']}T{datetime.datetime.now().time().isoformat()}Z\",\n",
    "        \"rating\": mood_to_rating.get(entry[\"mood\"], \"unknown\"),\n",
    "        \"message\": entry.get(\"notes\", \"\"),\n",
    "        \"emotions\": entry.get(\"emotions\", []),\n",
    "        \"tags\": [],  # Example: Can be populated based on further logic\n",
    "        \"sleep\": {\n",
    "            \"quality\": None  # Default null value\n",
    "        },\n",
    "        \"createdAt\": datetime.datetime.now().isoformat() + \"Z\"\n",
    "    }\n",
    "    \n",
    "    # Append the transformed entry\n",
    "    transformed_data[\"items\"].append(transformed_entry)"
   ]
  },
  {
   "cell_type": "code",
   "execution_count": 7,
   "metadata": {},
   "outputs": [],
   "source": [
    "pixy_template[\"items\"] = transformed_data[\"items\"]"
   ]
  },
  {
   "cell_type": "markdown",
   "metadata": {},
   "source": [
    "## Save Data"
   ]
  },
  {
   "cell_type": "code",
   "execution_count": 8,
   "metadata": {},
   "outputs": [],
   "source": [
    "# Save the transformed data\n",
    "output_file_path = 'data/pixy.json'\n",
    "with open(output_file_path, 'w', encoding='utf-8') as file:\n",
    "    json.dump(pixy_template, file, indent=2)"
   ]
  },
  {
   "cell_type": "code",
   "execution_count": null,
   "metadata": {},
   "outputs": [],
   "source": []
  }
 ],
 "metadata": {
  "kernelspec": {
   "display_name": "pixels2pixy",
   "language": "python",
   "name": "python3"
  },
  "language_info": {
   "codemirror_mode": {
    "name": "ipython",
    "version": 3
   },
   "file_extension": ".py",
   "mimetype": "text/x-python",
   "name": "python",
   "nbconvert_exporter": "python",
   "pygments_lexer": "ipython3",
   "version": "3.10.8"
  }
 },
 "nbformat": 4,
 "nbformat_minor": 2
}
